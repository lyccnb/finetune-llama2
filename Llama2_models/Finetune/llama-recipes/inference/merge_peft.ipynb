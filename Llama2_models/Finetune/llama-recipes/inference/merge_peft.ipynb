{
 "cells": [
  {
   "cell_type": "code",
   "execution_count": 1,
   "metadata": {},
   "outputs": [
    {
     "name": "stdout",
     "output_type": "stream",
     "text": [
      "/oscar/data/csun45/swang299/code/AntGPT-Llama2/llama-recipes/inference\n"
     ]
    }
   ],
   "source": [
    "%cd \"/users/swang299/code/AntGPT-Llama2/llama-recipes/inference\"\n",
    "import torch\n",
    "from transformers import LlamaTokenizer, LlamaForCausalLM\n",
    "from peft import PeftModel"
   ]
  },
  {
   "cell_type": "code",
   "execution_count": 2,
   "metadata": {},
   "outputs": [
    {
     "data": {
      "application/vnd.jupyter.widget-view+json": {
       "model_id": "0aaf61f113434109b3edf3737e40eeb8",
       "version_major": 2,
       "version_minor": 0
      },
      "text/plain": [
       "Loading checkpoint shards:   0%|          | 0/2 [00:00<?, ?it/s]"
      ]
     },
     "metadata": {},
     "output_type": "display_data"
    }
   ],
   "source": [
    "model_name = '/gpfs/data/superlab/models/llama2/llama/checkpoints/hf/Llama-2-7b-hf'\n",
    "base_model = LlamaForCausalLM.from_pretrained(\n",
    "    model_name,\n",
    "    return_dict=True,\n",
    "    device_map=\"auto\",\n",
    "    low_cpu_mem_usage=True,\n",
    ")\n"
   ]
  },
  {
   "cell_type": "code",
   "execution_count": 3,
   "metadata": {},
   "outputs": [],
   "source": [
    "peft_path = '../peft_ckpt/ego4d_v2_aug/lora/7B_bs12/1'\n",
    "peft_model = PeftModel.from_pretrained(base_model, peft_path)"
   ]
  },
  {
   "cell_type": "code",
   "execution_count": 4,
   "metadata": {},
   "outputs": [],
   "source": [
    "model = peft_model.merge_and_unload()\n",
    "tokenizer = LlamaTokenizer.from_pretrained(model_name, legacy=False)"
   ]
  },
  {
   "cell_type": "code",
   "execution_count": 5,
   "metadata": {},
   "outputs": [
    {
     "name": "stdout",
     "output_type": "stream",
     "text": [
      "Model saved to ../peft_ckpt/ego4d_v2_aug/lora/7B_bs12/1/merged/\n"
     ]
    }
   ],
   "source": [
    "output_dir = \"../peft_ckpt/ego4d_v2_aug/lora/7B_bs12/1/merged/\"\n",
    "model.save_pretrained(output_dir)\n",
    "tokenizer.save_pretrained(output_dir)\n",
    "print(f\"Model saved to {output_dir}\")"
   ]
  },
  {
   "cell_type": "code",
   "execution_count": null,
   "metadata": {},
   "outputs": [],
   "source": []
  }
 ],
 "metadata": {
  "kernelspec": {
   "display_name": "Python 3 (ipykernel)",
   "language": "python",
   "name": "python3"
  },
  "orig_nbformat": 4
 },
 "nbformat": 4,
 "nbformat_minor": 2
}
