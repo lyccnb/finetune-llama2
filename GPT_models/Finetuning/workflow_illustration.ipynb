{
 "cells": [
  {
   "cell_type": "markdown",
   "id": "eba841c0",
   "metadata": {},
   "source": [
    "## Step 1: Build dictionaries from Ego4d taxonomy and load data"
   ]
  },
  {
   "cell_type": "code",
   "execution_count": 1,
   "id": "ce5aa7c0",
   "metadata": {},
   "outputs": [],
   "source": [
    "from preprocessing import build_dictionary\n",
    "path = 'data/fho_lta_taxonomy.json'\n",
    "id2verb,id2noun,verb2id,noun2id = build_dictionary(path)"
   ]
  },
  {
   "cell_type": "code",
   "execution_count": 2,
   "id": "fa26b416",
   "metadata": {},
   "outputs": [],
   "source": [
    "#load data files sampled from Ego4d annotation files\n",
    "nseg = 8\n",
    "import json\n",
    "f = open(f'../v1_data/train_words_nseg{nseg}.json')\n",
    "train_data = json.load(f)\n",
    "f = open(f'../v1_data/val_words_nseg{nseg}.json')\n",
    "val_data = json.load(f)"
   ]
  },
  {
   "cell_type": "markdown",
   "id": "c543a134",
   "metadata": {},
   "source": [
    "## Step 2: Build datasets from fine-tuning GPT3"
   ]
  },
  {
   "cell_type": "code",
   "execution_count": null,
   "id": "dab54fbf",
   "metadata": {},
   "outputs": [],
   "source": [
    "from build_finetune_ds import build_finetune_dataset\n",
    "train_ds,val_ds = build_finetune_dataset([train_data,val_data],save_jsonl=False)\n",
    "#If you set save_jsonl=True, there will be two jsonl file saved on disk.            \n",
    "#You can now use the following command to submit the files to openai for fine-tuning\n",
    "\n",
    "###You need to setup openai apikey in environment###\n",
    "#https://help.openai.com/en/articles/5112595-best-practices-for-api-key-safety\n",
    "\n",
    "####preparing files using openai's tool####\n",
    "#!openai tools fine_tunes.prepare_data -f train_nseg8.jsonl -q\n",
    "#!openai tools fine_tunes.prepare_data -f val_nseg8.jsonl -q\n",
    "\n",
    "####submit to openai for finetune####\n",
    "#!openai api fine_tunes.create -t \"train_nseg8.jsonl\" -v \"val_nseg8.jsonl\" --n_epochs 2"
   ]
  },
  {
   "cell_type": "markdown",
   "id": "324c321c",
   "metadata": {},
   "source": [
    "## Step 3: Query fine-tuned GPT3 Model for action sequence predictions"
   ]
  },
  {
   "cell_type": "code",
   "execution_count": null,
   "id": "f24f355b",
   "metadata": {},
   "outputs": [],
   "source": [
    "#First replace the ground truth in validation files with recognition results.\n",
    "path_to_recognition_file = ''\n",
    "recognition_data = replace_to_recognition(path_to_recognition_file, val_data)\n",
    "recognition_ds = build_finetune_dataset([recognition_data],save_jsonl=False)[0]"
   ]
  },
  {
   "cell_type": "code",
   "execution_count": 5,
   "id": "34c9f2db",
   "metadata": {},
   "outputs": [],
   "source": [
    "from openai_utils import query_ft_model\n",
    "apikey = '' #you would need an open ai apikey\n",
    "res = query_ft_model(apikey,recognition_ds)"
   ]
  },
  {
   "cell_type": "markdown",
   "id": "fb88df44",
   "metadata": {},
   "source": [
    "## Post-process the responses and compute edit distance"
   ]
  },
  {
   "cell_type": "code",
   "execution_count": 7,
   "id": "98c88464",
   "metadata": {},
   "outputs": [],
   "source": [
    "import json\n",
    "f = open('responses/cg/responses_recognition_nseg8_4.json')\n",
    "res = json.load(f)\n",
    "\n",
    "from post_processing import map_responses_to_index, clean_responses, get_label\n",
    "bk_verb=dict({\"put\":1}) #for simplicity, we can use the most prevelent class as the bk_dict\n",
    "bk_noun=dict({\"dough\":1})\n",
    "verb_pred,noun_pred=map_responses_to_index(clean_responses(res),[verb2id,noun2id],[bk_verb,bk_noun])\n",
    "verb_label,noun_label = get_label(val_data)"
   ]
  },
  {
   "cell_type": "code",
   "execution_count": 8,
   "id": "e074525d",
   "metadata": {
    "scrolled": true
   },
   "outputs": [
    {
     "name": "stdout",
     "output_type": "stream",
     "text": [
      "Verb edit distance is: 0.7073052190818006\n",
      "Noun edit distance is: 0.7185434425003738\n"
     ]
    }
   ],
   "source": [
    "from edit_distance import edit_distance\n",
    "\n",
    "print(f\"Verb edit distance is: {edit_distance(verb_pred,verb_label)}\")\n",
    "print(f\"Noun edit distance is: {edit_distance(noun_pred,noun_label)}\")"
   ]
  }
 ],
 "metadata": {
  "kernelspec": {
   "display_name": "Python 3 (ipykernel)",
   "language": "python",
   "name": "python3"
  },
  "language_info": {
   "codemirror_mode": {
    "name": "ipython",
    "version": 3
   },
   "file_extension": ".py",
   "mimetype": "text/x-python",
   "name": "python",
   "nbconvert_exporter": "python",
   "pygments_lexer": "ipython3",
   "version": "3.8.13"
  }
 },
 "nbformat": 4,
 "nbformat_minor": 5
}
